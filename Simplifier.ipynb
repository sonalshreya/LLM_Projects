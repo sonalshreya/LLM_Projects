{
  "nbformat": 4,
  "nbformat_minor": 0,
  "metadata": {
    "colab": {
      "provenance": [],
      "authorship_tag": "ABX9TyNVKx/bzQITEWWo+R4UA52r",
      "include_colab_link": true
    },
    "kernelspec": {
      "name": "python3",
      "display_name": "Python 3"
    },
    "language_info": {
      "name": "python"
    }
  },
  "cells": [
    {
      "cell_type": "markdown",
      "metadata": {
        "id": "view-in-github",
        "colab_type": "text"
      },
      "source": [
        "<a href=\"https://colab.research.google.com/github/sonalshreya/LLM_Projects/blob/main/Simplifier.ipynb\" target=\"_parent\"><img src=\"https://colab.research.google.com/assets/colab-badge.svg\" alt=\"Open In Colab\"/></a>"
      ]
    },
    {
      "cell_type": "code",
      "execution_count": null,
      "metadata": {
        "id": "-O71uArH8u84"
      },
      "outputs": [],
      "source": [
        "!pip install transformers accelerate gradio bitsandbytes\n"
      ]
    },
    {
      "cell_type": "code",
      "source": [
        "from huggingface_hub import login\n",
        "\n",
        "login(token=\"hf-token\")  # Paste your token here\n"
      ],
      "metadata": {
        "id": "-cpBqkKqA3WK"
      },
      "execution_count": null,
      "outputs": []
    },
    {
      "cell_type": "code",
      "source": [
        "from transformers import AutoModelForCausalLM, AutoTokenizer\n",
        "\n",
        "model_id = \"microsoft/phi-2\"\n",
        "\n",
        "tokenizer = AutoTokenizer.from_pretrained(model_id)\n",
        "model = AutoModelForCausalLM.from_pretrained(model_id)\n"
      ],
      "metadata": {
        "id": "xAn2mLA8Bkim"
      },
      "execution_count": null,
      "outputs": []
    },
    {
      "cell_type": "code",
      "source": [
        "# from transformers import AutoTokenizer, AutoModelForCausalLM\n",
        "# import torch\n",
        "\n",
        "# model_id = \"mistralai/Mistral-7B-Instruct-v0.3\"\n",
        "\n",
        "# tokenizer = AutoTokenizer.from_pretrained(model_id)\n",
        "# model = AutoModelForCausalLM.from_pretrained(\n",
        "#     model_id,\n",
        "#     device_map=\"auto\",\n",
        "#     load_in_8bit=True,\n",
        "#     torch_dtype=torch.float16\n",
        "# )\n"
      ],
      "metadata": {
        "id": "ocmAuiht809U"
      },
      "execution_count": null,
      "outputs": []
    },
    {
      "cell_type": "code",
      "source": [
        "def build_prompt(text):\n",
        "    return f\"\"\"\n",
        "Below is a technical passage. Generate three summaries:\n",
        "1. An explanation for a 5-year-old.\n",
        "2. A student-level explanation.\n",
        "3. An expert-level summary.\n",
        "\n",
        "Text:\n",
        "{text}\n",
        "\n",
        "Output:\n",
        "\"\"\"\n"
      ],
      "metadata": {
        "id": "YJF5gEAU85ju"
      },
      "execution_count": null,
      "outputs": []
    },
    {
      "cell_type": "code",
      "source": [
        "def generate_summaries(text, max_tokens=512):\n",
        "    prompt = build_prompt(text)\n",
        "    inputs = tokenizer(prompt, return_tensors=\"pt\").to(model.device)\n",
        "    outputs = model.generate(\n",
        "        **inputs,\n",
        "        max_new_tokens=max_tokens,\n",
        "        temperature=0.7,\n",
        "        do_sample=True\n",
        "    )\n",
        "    decoded = tokenizer.decode(outputs[0], skip_special_tokens=True)\n",
        "    return decoded.split(\"Output:\")[-1].strip()\n"
      ],
      "metadata": {
        "id": "AwLVZg1eAZ12"
      },
      "execution_count": null,
      "outputs": []
    },
    {
      "cell_type": "code",
      "source": [
        "import gradio as gr\n",
        "\n",
        "def simplify(text):\n",
        "    try:\n",
        "        return generate_summaries(text)\n",
        "    except Exception as e:\n",
        "        return f\"Error: {e}\"\n",
        "\n",
        "gr.Interface(\n",
        "    fn=simplify,\n",
        "    inputs=gr.Textbox(lines=10, label=\"Paste technical content here\"),\n",
        "    outputs=gr.Textbox(lines=20, label=\"Simplified Outputs\"),\n",
        "    title=\"🧠 ELI5 Text Simplifier\",\n",
        "    description=\"Get simplified summaries of complex text for kids, students, and experts.\"\n",
        ").launch()\n"
      ],
      "metadata": {
        "id": "C4Dyuft0AcgE"
      },
      "execution_count": null,
      "outputs": []
    }
  ]
}