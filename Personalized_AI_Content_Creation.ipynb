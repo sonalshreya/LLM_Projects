{
  "nbformat": 4,
  "nbformat_minor": 0,
  "metadata": {
    "colab": {
      "provenance": [],
      "authorship_tag": "ABX9TyMsjq9sF4DGL/SxuoPQZl1N",
      "include_colab_link": true
    },
    "kernelspec": {
      "name": "python3",
      "display_name": "Python 3"
    },
    "language_info": {
      "name": "python"
    }
  },
  "cells": [
    {
      "cell_type": "markdown",
      "metadata": {
        "id": "view-in-github",
        "colab_type": "text"
      },
      "source": [
        "<a href=\"https://colab.research.google.com/github/sonalshreya/LLM_Projects/blob/main/Personalized_AI_Content_Creation.ipynb\" target=\"_parent\"><img src=\"https://colab.research.google.com/assets/colab-badge.svg\" alt=\"Open In Colab\"/></a>"
      ]
    },
    {
      "cell_type": "code",
      "execution_count": null,
      "metadata": {
        "id": "rCKrvni0tWOG"
      },
      "outputs": [],
      "source": [
        "!pip install transformers datasets\n",
        "!pip install torch\n"
      ]
    },
    {
      "cell_type": "code",
      "source": [
        "from transformers import pipeline, GPTNeoForCausalLM, GPT2Tokenizer\n",
        "import torch\n"
      ],
      "metadata": {
        "id": "FqEMLPi-teZe"
      },
      "execution_count": null,
      "outputs": []
    },
    {
      "cell_type": "code",
      "source": [
        "# Load pre-trained GPT-2 model and tokenizer from Hugging Face\n",
        "#model_name = \"gpt2\"\n",
        "model_name=\"EleutherAI/gpt-neo-1.3B\"\n",
        "model = GPTNeoForCausalLM.from_pretrained(model_name)\n",
        "tokenizer = GPT2Tokenizer.from_pretrained(model_name)\n",
        "\n",
        "model.eval()\n"
      ],
      "metadata": {
        "id": "c0LnJhGNtf-i"
      },
      "execution_count": null,
      "outputs": []
    },
    {
      "cell_type": "code",
      "source": [
        "def generate_content(prompt, max_length=150, temperature=0.7, top_k=50):\n",
        "    # Tokenize input\n",
        "    input_ids = tokenizer.encode(prompt, return_tensors='pt')\n",
        "    attention_mask = torch.ones(input_ids.shape, dtype=torch.long)\n",
        "\n",
        "    # Generate text based on the input\n",
        "    with torch.no_grad():\n",
        "        output = model.generate(\n",
        "            input_ids,\n",
        "            attention_mask=attention_mask,\n",
        "            max_length=max_length,\n",
        "            num_beams=5,\n",
        "            no_repeat_ngram_size=2,\n",
        "            temperature=temperature,\n",
        "            top_k=top_k,\n",
        "            top_p=0.95,\n",
        "            do_sample=True,\n",
        "            early_stopping=True,\n",
        "            pad_token_id=50256\n",
        "        )\n",
        "\n",
        "    # Decode the generated text\n",
        "    generated_text = tokenizer.decode(output[0], skip_special_tokens=True)\n",
        "    return generated_text\n"
      ],
      "metadata": {
        "id": "ymUHgdThuR3o"
      },
      "execution_count": null,
      "outputs": []
    },
    {
      "cell_type": "code",
      "source": [
        "#Customize User Input for Personalization\n",
        "\n",
        "# Define user input (e.g., keywords, tone, or article topic)\n",
        "keywords = \"AI, machine learning, data science\"\n",
        "tone = \"informative and friendly\"\n",
        "topic = \"The Future of AI in Business\"\n",
        "\n",
        "# Combine the inputs into a prompt\n",
        "prompt = f\"Write a {tone} blog article about {topic}. Focus on these keywords: {keywords}. Start with:\"\n",
        "\n",
        "# Generate personalized content\n",
        "generated_blog = generate_content(prompt)\n",
        "print(generated_blog)\n"
      ],
      "metadata": {
        "id": "OQJ0pNWLudbE"
      },
      "execution_count": null,
      "outputs": []
    },
    {
      "cell_type": "code",
      "source": [
        "# Prompt user for input\n",
        "keywords = input(\"Enter the keywords (comma-separated): \")\n",
        "tone = input(\"Enter the tone (e.g., friendly, professional, informal): \")\n",
        "topic = input(\"Enter the topic (e.g., AI in Healthcare): \")\n",
        "\n",
        "# Generate prompt based on inputs\n",
        "prompt = f\"Write a {tone} and informative blog article about {topic}. Focus on these keywords: {keywords}. Structure the article into an introduction, main body, and conclusion. Start with: Introduction to {topic}. Then explain the importance of {keywords} in {topic}.\"\n",
        "# Generate and print content\n",
        "generated_blog = generate_content(prompt,max_length=1000)\n",
        "print(\"\\nGenerated Blog Article:\\n\")\n",
        "print(generated_blog)\n"
      ],
      "metadata": {
        "id": "u92wyO8juht5"
      },
      "execution_count": null,
      "outputs": []
    },
    {
      "cell_type": "code",
      "source": [
        "# Define user input (e.g., keywords, tone, or article topic)\n",
        "keywords = \"AI, machine learning, data science\"\n",
        "tone = \"informative and friendly\"\n",
        "topic = \"The Future of AI in Business\"\n",
        "intro_statement = \"The rapid development of artificial intelligence has the potential to reshape industries, enhance business operations, and improve customer experiences.\"\n",
        "\n",
        "# Combine the inputs into a prompt\n",
        "prompt = f\"Write an {tone} blog article about {topic}. Focus on these keywords: {keywords}. Begin with: {intro_statement} Continue discussing the impact of AI in business, especially in areas like automation, decision-making, and personalized customer service.\"\n",
        "\n",
        "# Generate personalized content\n",
        "generated_blog = generate_content(prompt)\n",
        "print(generated_blog)\n"
      ],
      "metadata": {
        "id": "GNKkhzG1Kn_F"
      },
      "execution_count": null,
      "outputs": []
    }
  ]
}